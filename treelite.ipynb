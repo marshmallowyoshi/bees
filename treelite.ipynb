{
 "cells": [
  {
   "cell_type": "code",
   "execution_count": 5,
   "metadata": {},
   "outputs": [],
   "source": [
    "import json\n",
    "import pickle\n",
    "import treelite\n",
    "import tl2cgen"
   ]
  },
  {
   "cell_type": "code",
   "execution_count": 10,
   "metadata": {},
   "outputs": [],
   "source": [
    "with open(\"forest.pkl\", 'rb') as f:\n",
    "    model = pickle.load(f)"
   ]
  },
  {
   "cell_type": "code",
   "execution_count": 11,
   "metadata": {},
   "outputs": [],
   "source": [
    "tl_model = treelite.sklearn.import_model(model)"
   ]
  },
  {
   "cell_type": "code",
   "execution_count": 17,
   "metadata": {},
   "outputs": [
    {
     "name": "stderr",
     "output_type": "stream",
     "text": [
      "/home/yoshi/.local/lib/python3.10/site-packages/treelite/warn.py:6: UserWarning: Method treelite.Model.export_lib() is deprecated and scheduled for removal in Treelite 4.0. Please use TL2cgen instead. Consult the migration guide at https://tl2cgen.readthedocs.io/en/latest/treelite-migration.html.\n",
      "  warnings.warn(\n",
      "/home/yoshi/.local/lib/python3.10/site-packages/treelite/warn.py:6: UserWarning: Method treelite.Model.compile() is deprecated and scheduled for removal in Treelite 4.0. Please use TL2cgen instead. Consult the migration guide at https://tl2cgen.readthedocs.io/en/latest/treelite-migration.html.\n",
      "  warnings.warn(\n"
     ]
    },
    {
     "name": "stdout",
     "output_type": "stream",
     "text": [
      "[14:50:50] ../src/compiler/ast/split.cc:24: Parallel compilation disabled; all member trees will be dumped to a single source file. This may increase compilation time and memory usage.\n",
      "[14:50:56] /home/yoshi/.local/lib/python3.10/site-packages/treelite/contrib/__init__.py:271: \u001b[1;31mWARNING: some of the source files are long. Expect long build time.\u001b[0m You may want to adjust the parameter \u001b[33mparallel_comp\u001b[0m.\n",
      "\n",
      "[14:50:56] /home/yoshi/.local/lib/python3.10/site-packages/treelite/contrib/util.py:105: Compiling sources files in directory ./tmpsnxcj9l2 into object files (*.o)...\n"
     ]
    },
    {
     "name": "stderr",
     "output_type": "stream",
     "text": [
      "/home/yoshi/.local/lib/python3.10/site-packages/treelite/warn.py:6: UserWarning: Function treelite.create_shared() is deprecated and scheduled for removal in Treelite 4.0. Please use TL2cgen instead. Consult the migration guide at https://tl2cgen.readthedocs.io/en/latest/treelite-migration.html.\n",
      "  warnings.warn(\n"
     ]
    },
    {
     "ename": "FileNotFoundError",
     "evalue": "[Errno 2] No such file or directory: '/mnt/d/Documents/VSCode Projects/bees/tmpsnxcj9l2/retcode_cpu0.txt'",
     "output_type": "error",
     "traceback": [
      "\u001b[0;31m---------------------------------------------------------------------------\u001b[0m",
      "\u001b[0;31mFileNotFoundError\u001b[0m                         Traceback (most recent call last)",
      "Cell \u001b[0;32mIn[17], line 1\u001b[0m\n\u001b[0;32m----> 1\u001b[0m \u001b[43mtl_model\u001b[49m\u001b[38;5;241;43m.\u001b[39;49m\u001b[43mexport_lib\u001b[49m\u001b[43m(\u001b[49m\u001b[43mtoolchain\u001b[49m\u001b[38;5;241;43m=\u001b[39;49m\u001b[38;5;124;43m'\u001b[39;49m\u001b[38;5;124;43mgcc\u001b[39;49m\u001b[38;5;124;43m'\u001b[39;49m\u001b[43m,\u001b[49m\u001b[43m \u001b[49m\u001b[43mlibpath\u001b[49m\u001b[38;5;241;43m=\u001b[39;49m\u001b[38;5;124;43m'\u001b[39;49m\u001b[38;5;124;43m./tree.so\u001b[39;49m\u001b[38;5;124;43m'\u001b[39;49m\u001b[43m,\u001b[49m\u001b[43m \u001b[49m\u001b[43mverbose\u001b[49m\u001b[38;5;241;43m=\u001b[39;49m\u001b[38;5;28;43;01mTrue\u001b[39;49;00m\u001b[43m)\u001b[49m\n",
      "File \u001b[0;32m~/.local/lib/python3.10/site-packages/treelite/frontend.py:262\u001b[0m, in \u001b[0;36mModel.export_lib\u001b[0;34m(self, toolchain, libpath, params, compiler, verbose, nthread, options)\u001b[0m\n\u001b[1;32m    260\u001b[0m \u001b[38;5;28;01mwith\u001b[39;00m TemporaryDirectory(\u001b[38;5;28mdir\u001b[39m\u001b[38;5;241m=\u001b[39mos\u001b[38;5;241m.\u001b[39mpath\u001b[38;5;241m.\u001b[39mdirname(libpath)) \u001b[38;5;28;01mas\u001b[39;00m temp_dir:\n\u001b[1;32m    261\u001b[0m     \u001b[38;5;28mself\u001b[39m\u001b[38;5;241m.\u001b[39mcompile(temp_dir, params, compiler, verbose)\n\u001b[0;32m--> 262\u001b[0m     temp_libpath \u001b[38;5;241m=\u001b[39m \u001b[43mcreate_shared\u001b[49m\u001b[43m(\u001b[49m\n\u001b[1;32m    263\u001b[0m \u001b[43m        \u001b[49m\u001b[43mtoolchain\u001b[49m\u001b[43m,\u001b[49m\u001b[43m \u001b[49m\u001b[43mtemp_dir\u001b[49m\u001b[43m,\u001b[49m\u001b[43m \u001b[49m\u001b[43mnthread\u001b[49m\u001b[38;5;241;43m=\u001b[39;49m\u001b[43mnthread\u001b[49m\u001b[43m,\u001b[49m\u001b[43m \u001b[49m\u001b[43mverbose\u001b[49m\u001b[38;5;241;43m=\u001b[39;49m\u001b[43mverbose\u001b[49m\u001b[43m,\u001b[49m\u001b[43m \u001b[49m\u001b[43moptions\u001b[49m\u001b[38;5;241;43m=\u001b[39;49m\u001b[43moptions\u001b[49m\u001b[43m,\u001b[49m\n\u001b[1;32m    264\u001b[0m \u001b[43m        \u001b[49m\u001b[43mlong_build_time_warning\u001b[49m\u001b[38;5;241;43m=\u001b[39;49m\u001b[43mlong_build_time_warning\u001b[49m\u001b[43m)\u001b[49m\n\u001b[1;32m    265\u001b[0m     \u001b[38;5;28;01mif\u001b[39;00m os\u001b[38;5;241m.\u001b[39mpath\u001b[38;5;241m.\u001b[39mexists(libpath) \u001b[38;5;129;01mand\u001b[39;00m os\u001b[38;5;241m.\u001b[39mpath\u001b[38;5;241m.\u001b[39misfile(libpath):\n\u001b[1;32m    266\u001b[0m         os\u001b[38;5;241m.\u001b[39mremove(libpath)\n",
      "File \u001b[0;32m~/.local/lib/python3.10/site-packages/treelite/contrib/__init__.py:284\u001b[0m, in \u001b[0;36mcreate_shared\u001b[0;34m(toolchain, dirpath, nthread, verbose, options, long_build_time_warning)\u001b[0m\n\u001b[1;32m    281\u001b[0m \u001b[38;5;28;01melse\u001b[39;00m:\n\u001b[1;32m    282\u001b[0m     \u001b[38;5;28;01mfrom\u001b[39;00m \u001b[38;5;21;01m.\u001b[39;00m\u001b[38;5;21;01mgcc\u001b[39;00m \u001b[38;5;28;01mimport\u001b[39;00m _create_shared\n\u001b[1;32m    283\u001b[0m libpath \u001b[38;5;241m=\u001b[39m \\\n\u001b[0;32m--> 284\u001b[0m     \u001b[43m_create_shared\u001b[49m\u001b[43m(\u001b[49m\u001b[43mdirpath\u001b[49m\u001b[43m,\u001b[49m\u001b[43m \u001b[49m\u001b[43mtoolchain\u001b[49m\u001b[43m,\u001b[49m\u001b[43m \u001b[49m\u001b[43mrecipe\u001b[49m\u001b[43m,\u001b[49m\u001b[43m \u001b[49m\u001b[43mnthread\u001b[49m\u001b[43m,\u001b[49m\u001b[43m \u001b[49m\u001b[43moptions\u001b[49m\u001b[43m,\u001b[49m\u001b[43m \u001b[49m\u001b[43mverbose\u001b[49m\u001b[43m)\u001b[49m\n\u001b[1;32m    285\u001b[0m \u001b[38;5;28;01mif\u001b[39;00m verbose:\n\u001b[1;32m    286\u001b[0m     log_info(\u001b[38;5;18m__file__\u001b[39m, lineno(),\n\u001b[1;32m    287\u001b[0m              \u001b[38;5;124m'\u001b[39m\u001b[38;5;124mGenerated shared library in \u001b[39m\u001b[38;5;124m'\u001b[39m \u001b[38;5;241m+\u001b[39m \\\n\u001b[1;32m    288\u001b[0m              \u001b[38;5;124m'\u001b[39m\u001b[38;5;132;01m{0:.2f}\u001b[39;00m\u001b[38;5;124m seconds\u001b[39m\u001b[38;5;124m'\u001b[39m\u001b[38;5;241m.\u001b[39mformat(time\u001b[38;5;241m.\u001b[39mtime() \u001b[38;5;241m-\u001b[39m tstart))\n",
      "File \u001b[0;32m~/.local/lib/python3.10/site-packages/treelite/contrib/gcc.py:43\u001b[0m, in \u001b[0;36m_create_shared\u001b[0;34m(dirpath, toolchain, recipe, nthread, options, verbose)\u001b[0m\n\u001b[1;32m     41\u001b[0m recipe[\u001b[38;5;124m'\u001b[39m\u001b[38;5;124mcreate_library_cmd\u001b[39m\u001b[38;5;124m'\u001b[39m] \u001b[38;5;241m=\u001b[39m lib_cmd\n\u001b[1;32m     42\u001b[0m recipe[\u001b[38;5;124m'\u001b[39m\u001b[38;5;124minitial_cmd\u001b[39m\u001b[38;5;124m'\u001b[39m] \u001b[38;5;241m=\u001b[39m \u001b[38;5;124m'\u001b[39m\u001b[38;5;124m'\u001b[39m\n\u001b[0;32m---> 43\u001b[0m \u001b[38;5;28;01mreturn\u001b[39;00m \u001b[43m_create_shared_base\u001b[49m\u001b[43m(\u001b[49m\u001b[43mdirpath\u001b[49m\u001b[43m,\u001b[49m\u001b[43m \u001b[49m\u001b[43mrecipe\u001b[49m\u001b[43m,\u001b[49m\u001b[43m \u001b[49m\u001b[43mnthread\u001b[49m\u001b[43m,\u001b[49m\u001b[43m \u001b[49m\u001b[43mverbose\u001b[49m\u001b[43m)\u001b[49m\n",
      "File \u001b[0;32m~/.local/lib/python3.10/site-packages/treelite/contrib/util.py:123\u001b[0m, in \u001b[0;36m_create_shared_base\u001b[0;34m(dirpath, recipe, nthread, verbose)\u001b[0m\n\u001b[1;32m    121\u001b[0m result \u001b[38;5;241m=\u001b[39m []\n\u001b[1;32m    122\u001b[0m \u001b[38;5;28;01mfor\u001b[39;00m tid \u001b[38;5;129;01min\u001b[39;00m \u001b[38;5;28mrange\u001b[39m(ncpu):\n\u001b[0;32m--> 123\u001b[0m     result\u001b[38;5;241m.\u001b[39mappend(\u001b[43m_wait\u001b[49m\u001b[43m(\u001b[49m\u001b[43mproc\u001b[49m\u001b[43m[\u001b[49m\u001b[43mtid\u001b[49m\u001b[43m]\u001b[49m\u001b[43m,\u001b[49m\u001b[43m \u001b[49m\u001b[43mworkqueue\u001b[49m\u001b[43m[\u001b[49m\u001b[43mtid\u001b[49m\u001b[43m]\u001b[49m\u001b[43m)\u001b[49m)\n\u001b[1;32m    125\u001b[0m \u001b[38;5;28;01mfor\u001b[39;00m tid \u001b[38;5;129;01min\u001b[39;00m \u001b[38;5;28mrange\u001b[39m(ncpu):\n\u001b[1;32m    126\u001b[0m     \u001b[38;5;28;01mif\u001b[39;00m \u001b[38;5;129;01mnot\u001b[39;00m \u001b[38;5;28mall\u001b[39m(x \u001b[38;5;241m==\u001b[39m \u001b[38;5;241m0\u001b[39m \u001b[38;5;28;01mfor\u001b[39;00m x \u001b[38;5;129;01min\u001b[39;00m result[tid][\u001b[38;5;124m'\u001b[39m\u001b[38;5;124mretcode\u001b[39m\u001b[38;5;124m'\u001b[39m]):\n",
      "File \u001b[0;32m~/.local/lib/python3.10/site-packages/treelite/contrib/util.py:88\u001b[0m, in \u001b[0;36m_wait\u001b[0;34m(proc, args)\u001b[0m\n\u001b[1;32m     86\u001b[0m dirpath \u001b[38;5;241m=\u001b[39m args[\u001b[38;5;124m'\u001b[39m\u001b[38;5;124mdirpath\u001b[39m\u001b[38;5;124m'\u001b[39m]\n\u001b[1;32m     87\u001b[0m stdout, _ \u001b[38;5;241m=\u001b[39m proc\u001b[38;5;241m.\u001b[39mcommunicate()\n\u001b[0;32m---> 88\u001b[0m \u001b[38;5;28;01mwith\u001b[39;00m \u001b[38;5;28;43mopen\u001b[39;49m\u001b[43m(\u001b[49m\u001b[43mos\u001b[49m\u001b[38;5;241;43m.\u001b[39;49m\u001b[43mpath\u001b[49m\u001b[38;5;241;43m.\u001b[39;49m\u001b[43mjoin\u001b[49m\u001b[43m(\u001b[49m\u001b[43mdirpath\u001b[49m\u001b[43m,\u001b[49m\u001b[43m \u001b[49m\u001b[38;5;124;43m'\u001b[39;49m\u001b[38;5;124;43mretcode_cpu\u001b[39;49m\u001b[38;5;132;43;01m{}\u001b[39;49;00m\u001b[38;5;124;43m.txt\u001b[39;49m\u001b[38;5;124;43m'\u001b[39;49m\u001b[38;5;241;43m.\u001b[39;49m\u001b[43mformat\u001b[49m\u001b[43m(\u001b[49m\u001b[43mtid\u001b[49m\u001b[43m)\u001b[49m\u001b[43m)\u001b[49m\u001b[43m,\u001b[49m\u001b[43m \u001b[49m\u001b[38;5;124;43m'\u001b[39;49m\u001b[38;5;124;43mr\u001b[39;49m\u001b[38;5;124;43m'\u001b[39;49m\u001b[43m,\u001b[49m\u001b[43m \u001b[49m\u001b[43mencoding\u001b[49m\u001b[38;5;241;43m=\u001b[39;49m\u001b[38;5;124;43m'\u001b[39;49m\u001b[38;5;124;43mUTF-8\u001b[39;49m\u001b[38;5;124;43m'\u001b[39;49m\u001b[43m)\u001b[49m \u001b[38;5;28;01mas\u001b[39;00m f:\n\u001b[1;32m     89\u001b[0m     retcode \u001b[38;5;241m=\u001b[39m [\u001b[38;5;28mint\u001b[39m(line) \u001b[38;5;28;01mfor\u001b[39;00m line \u001b[38;5;129;01min\u001b[39;00m f]\n\u001b[1;32m     90\u001b[0m \u001b[38;5;28;01mreturn\u001b[39;00m {\u001b[38;5;124m'\u001b[39m\u001b[38;5;124mstdout\u001b[39m\u001b[38;5;124m'\u001b[39m: stdout\u001b[38;5;241m.\u001b[39mdecode(), \u001b[38;5;124m'\u001b[39m\u001b[38;5;124mretcode\u001b[39m\u001b[38;5;124m'\u001b[39m: retcode}\n",
      "\u001b[0;31mFileNotFoundError\u001b[0m: [Errno 2] No such file or directory: '/mnt/d/Documents/VSCode Projects/bees/tmpsnxcj9l2/retcode_cpu0.txt'"
     ]
    }
   ],
   "source": [
    "tl_model.export_lib(toolchain='gcc', libpath='./tree.so', verbose=True)"
   ]
  },
  {
   "cell_type": "code",
   "execution_count": 21,
   "metadata": {},
   "outputs": [
    {
     "name": "stdout",
     "output_type": "stream",
     "text": [
      "[14:56:14] ../src/compiler/ast_native.cc:663: Using ASTNativeCompiler\n",
      "[14:56:14] ../src/compiler/ast/builder/split.cc:30: Parallel compilation enabled; member trees will be divided into 1 translation units.\n",
      "[14:56:20] ../src/c_api/c_api.cc:105: Code generation finished. Writing code to files...\n",
      "[14:56:20] ../src/c_api/c_api.cc:110: Writing file recipe.json...\n",
      "[14:56:20] ../src/c_api/c_api.cc:110: Writing file tu0.c...\n",
      "[14:56:22] ../src/c_api/c_api.cc:110: Writing file header.h...\n",
      "[14:56:22] ../src/c_api/c_api.cc:110: Writing file main.c...\n"
     ]
    }
   ],
   "source": [
    "tl2cgen.generate_c_code(tl_model, 'forest', verbose=True, params={'parallel_comp': 1})"
   ]
  },
  {
   "cell_type": "code",
   "execution_count": null,
   "metadata": {},
   "outputs": [],
   "source": []
  }
 ],
 "metadata": {
  "kernelspec": {
   "display_name": "Python 3",
   "language": "python",
   "name": "python3"
  },
  "language_info": {
   "codemirror_mode": {
    "name": "ipython",
    "version": 3
   },
   "file_extension": ".py",
   "mimetype": "text/x-python",
   "name": "python",
   "nbconvert_exporter": "python",
   "pygments_lexer": "ipython3",
   "version": "3.10.12"
  }
 },
 "nbformat": 4,
 "nbformat_minor": 2
}
